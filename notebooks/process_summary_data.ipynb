{
 "cells": [
  {
   "attachments": {},
   "cell_type": "markdown",
   "metadata": {},
   "source": [
    "# Prepare summarization dataset for HuggingFace"
   ]
  },
  {
   "cell_type": "code",
   "execution_count": null,
   "metadata": {},
   "outputs": [],
   "source": [
    "import json\n",
    "import random\n",
    "import os\n",
    "import matplotlib.pyplot as plt\n",
    "import seaborn as sns\n",
    "\n",
    "sns.set_style(\"whitegrid\")"
   ]
  },
  {
   "cell_type": "code",
   "execution_count": null,
   "metadata": {},
   "outputs": [],
   "source": [
    "def read_jsonl(path):\n",
    "    with open(path, \"r\") as f:\n",
    "        return [json.loads(line) for line in f]\n",
    "\n",
    "\n",
    "def write_jsonl(path, data):\n",
    "    with open(path, \"w\") as f:\n",
    "        for line in data:\n",
    "            json.dump(line, f)\n",
    "            f.write(\"\\n\")"
   ]
  },
  {
   "cell_type": "code",
   "execution_count": null,
   "metadata": {},
   "outputs": [],
   "source": [
    "RAW_PATH = \"../../../../mnt/data_6tb/oliver/NordjyllandNews/data/raw/summary.jsonl\"\n",
    "PROCESSED_PATH = \"../../../../mnt/data_6tb/oliver/NordjyllandNews/data/processed/summary/\"\n"
   ]
  },
  {
   "cell_type": "code",
   "execution_count": null,
   "metadata": {},
   "outputs": [],
   "source": [
    "raw_data = read_jsonl(RAW_PATH)"
   ]
  },
  {
   "cell_type": "code",
   "execution_count": null,
   "metadata": {},
   "outputs": [],
   "source": [
    "len(raw_data)"
   ]
  },
  {
   "cell_type": "code",
   "execution_count": null,
   "metadata": {},
   "outputs": [],
   "source": [
    "raw_data[0].keys()"
   ]
  },
  {
   "attachments": {},
   "cell_type": "markdown",
   "metadata": {},
   "source": [
    "Inspect summary duplicate"
   ]
  },
  {
   "cell_type": "code",
   "execution_count": null,
   "metadata": {},
   "outputs": [],
   "source": [
    "summary_dict = {}\n",
    "\n",
    "for article in raw_data:\n",
    "    summary = article[\"summary\"]\n",
    "    if summary in summary_dict:\n",
    "        summary_dict[summary] += 1\n",
    "    else:\n",
    "        summary_dict[summary] = 1\n",
    "\n",
    "duplicates = [summary for summary, count in summary_dict.items() if count > 1]\n"
   ]
  },
  {
   "cell_type": "code",
   "execution_count": null,
   "metadata": {},
   "outputs": [],
   "source": [
    "duplicates"
   ]
  },
  {
   "attachments": {},
   "cell_type": "markdown",
   "metadata": {},
   "source": [
    "Make blacklist based on summary duplicates"
   ]
  },
  {
   "cell_type": "code",
   "execution_count": null,
   "metadata": {},
   "outputs": [],
   "source": [
    "blacklist_summaries = [\n",
    "    \"&nbsp;\",\n",
    "    \"Opdateres...\",\n",
    "]"
   ]
  },
  {
   "attachments": {},
   "cell_type": "markdown",
   "metadata": {},
   "source": [
    "Build processed data."
   ]
  },
  {
   "cell_type": "code",
   "execution_count": null,
   "metadata": {},
   "outputs": [],
   "source": [
    "processed_data = []\n",
    "\n",
    "MIN_LENGTH = 10\n",
    "\n",
    "for article in raw_data:\n",
    "    summary = article[\"summary\"]\n",
    "    text = article[\"text_content\"]\n",
    "    text_len = len(text)\n",
    "    summary_len = len(summary)\n",
    "\n",
    "    if text_len < MIN_LENGTH or summary_len < MIN_LENGTH or summary in blacklist_summaries:\n",
    "        continue\n",
    "    \n",
    "\n",
    "    processed_data.append({\n",
    "        \"text\": text,\n",
    "        \"summary\": summary,\n",
    "        \"text_len\": text_len,\n",
    "        \"summary_len\": summary_len\n",
    "    })"
   ]
  },
  {
   "cell_type": "code",
   "execution_count": null,
   "metadata": {},
   "outputs": [],
   "source": [
    "len(raw_data) - len(processed_data)"
   ]
  },
  {
   "attachments": {},
   "cell_type": "markdown",
   "metadata": {},
   "source": [
    "Train, val, and test split"
   ]
  },
  {
   "cell_type": "code",
   "execution_count": null,
   "metadata": {},
   "outputs": [],
   "source": [
    "n = len(processed_data)"
   ]
  },
  {
   "cell_type": "code",
   "execution_count": null,
   "metadata": {},
   "outputs": [],
   "source": [
    "VAL_AND_TEST_FRACTION = 0.05\n",
    "val_size = int(n * VAL_AND_TEST_FRACTION)\n",
    "test_size = int(n * VAL_AND_TEST_FRACTION)\n",
    "train_size = n - val_size - test_size\n",
    "\n",
    "\n",
    "random.shuffle(processed_data)\n",
    "\n",
    "train_data = processed_data[:train_size]\n",
    "val_data = processed_data[train_size:train_size + val_size]\n",
    "test_data = processed_data[train_size + val_size:]"
   ]
  },
  {
   "cell_type": "code",
   "execution_count": null,
   "metadata": {},
   "outputs": [],
   "source": [
    "len(train_data) + len(val_data) + len(test_data) == len(processed_data)"
   ]
  },
  {
   "cell_type": "code",
   "execution_count": null,
   "metadata": {},
   "outputs": [],
   "source": [
    "print(f\"Train: {len(train_data)}\")\n",
    "print(f\"Val: {len(val_data)}\")\n",
    "print(f\"Test: {len(test_data)}\")"
   ]
  },
  {
   "attachments": {},
   "cell_type": "markdown",
   "metadata": {},
   "source": [
    "Write splits to disk"
   ]
  },
  {
   "cell_type": "code",
   "execution_count": null,
   "metadata": {},
   "outputs": [],
   "source": [
    "train_path = PROCESSED_PATH + \"train.jsonl\"\n",
    "val_path = PROCESSED_PATH + \"val.jsonl\"\n",
    "test_path = PROCESSED_PATH + \"test.jsonl\""
   ]
  },
  {
   "cell_type": "code",
   "execution_count": null,
   "metadata": {},
   "outputs": [],
   "source": [
    "write_jsonl(train_path, train_data)\n",
    "write_jsonl(val_path, val_data)\n",
    "write_jsonl(test_path, test_data)"
   ]
  },
  {
   "attachments": {},
   "cell_type": "markdown",
   "metadata": {},
   "source": [
    "## Dataset statistics"
   ]
  },
  {
   "attachments": {},
   "cell_type": "markdown",
   "metadata": {},
   "source": [
    "Size of dataset"
   ]
  },
  {
   "cell_type": "code",
   "execution_count": null,
   "metadata": {},
   "outputs": [],
   "source": [
    "train_size = os.path.getsize(train_path) / 1e6 \n",
    "val_size = os.path.getsize(val_path) / 1e6\n",
    "test_size = os.path.getsize(test_path) / 1e6\n",
    "\n",
    "print(f\"Total size: {train_size + val_size + test_size:.2f} MB\")\n"
   ]
  },
  {
   "attachments": {},
   "cell_type": "markdown",
   "metadata": {},
   "source": [
    "### Text length distribution"
   ]
  },
  {
   "cell_type": "code",
   "execution_count": null,
   "metadata": {},
   "outputs": [],
   "source": [
    "texts_lengths = [article[\"text_len\"] for article in processed_data]"
   ]
  },
  {
   "cell_type": "code",
   "execution_count": null,
   "metadata": {},
   "outputs": [],
   "source": [
    "plt.figure(figsize=(10, 5))\n",
    "sns.histplot(texts_lengths, bins=100)\n",
    "plt.title(\"Text Length Distribution\")\n",
    "plt.ylabel(\"Frequency\")\n",
    "plt.xlabel(\"Number of characters in text\")\n",
    "plt.savefig(\"../figures/text_length_distribution.png\")"
   ]
  },
  {
   "cell_type": "code",
   "execution_count": null,
   "metadata": {},
   "outputs": [],
   "source": [
    "min(texts_lengths), max(texts_lengths)"
   ]
  },
  {
   "attachments": {},
   "cell_type": "markdown",
   "metadata": {},
   "source": [
    "### Summary length distribution"
   ]
  },
  {
   "cell_type": "code",
   "execution_count": null,
   "metadata": {},
   "outputs": [],
   "source": [
    "summary_lengths = [article[\"summary_len\"] for article in processed_data]"
   ]
  },
  {
   "cell_type": "code",
   "execution_count": null,
   "metadata": {},
   "outputs": [],
   "source": [
    "plt.figure(figsize=(10, 5))\n",
    "sns.histplot(summary_lengths, bins=100)\n",
    "plt.title(\"Summary Length Distribution\")\n",
    "plt.ylabel(\"Frequency\")\n",
    "plt.xlabel(\"Number of characters in summary\")\n",
    "plt.savefig(\"../figures/summary_length_distribution.png\")"
   ]
  },
  {
   "cell_type": "code",
   "execution_count": null,
   "metadata": {},
   "outputs": [],
   "source": [
    "min(summary_lengths), max(summary_lengths)"
   ]
  },
  {
   "attachments": {},
   "cell_type": "markdown",
   "metadata": {},
   "source": [
    "#### Data set problems"
   ]
  },
  {
   "attachments": {},
   "cell_type": "markdown",
   "metadata": {},
   "source": [
    "Count number of times that the length of the summary is greater than the length of the text."
   ]
  },
  {
   "cell_type": "code",
   "execution_count": null,
   "metadata": {},
   "outputs": [],
   "source": [
    "sum(article[\"summary_len\"] > article[\"text_len\"] for article in processed_data)"
   ]
  }
 ],
 "metadata": {
  "kernelspec": {
   "display_name": ".venv",
   "language": "python",
   "name": "python3"
  },
  "language_info": {
   "codemirror_mode": {
    "name": "ipython",
    "version": 3
   },
   "file_extension": ".py",
   "mimetype": "text/x-python",
   "name": "python",
   "nbconvert_exporter": "python",
   "pygments_lexer": "ipython3",
   "version": "3.10.12"
  }
 },
 "nbformat": 4,
 "nbformat_minor": 2
}
